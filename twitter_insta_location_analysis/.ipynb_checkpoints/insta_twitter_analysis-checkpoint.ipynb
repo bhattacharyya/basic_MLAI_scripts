{
 "cells": [
  {
   "cell_type": "code",
   "execution_count": null,
   "metadata": {},
   "outputs": [],
   "source": [
    "import pandas as pd\n",
    "import os\n",
    "from mapboxgl.utils import *\n",
    "from mapboxgl.viz import *"
   ]
  },
  {
   "cell_type": "code",
   "execution_count": null,
   "metadata": {},
   "outputs": [],
   "source": [
    "df = pd.read_csv(\"insta_twitter_24hrs.txt\",sep=\"|\").round(4)\n",
    "df.head()"
   ]
  },
  {
   "cell_type": "code",
   "execution_count": null,
   "metadata": {},
   "outputs": [],
   "source": [
    "token = 'MAPBOX_ACCESS_TOKEN'"
   ]
  },
  {
   "cell_type": "code",
   "execution_count": null,
   "metadata": {},
   "outputs": [],
   "source": [
    "# Create a geojson file export from the current dataframe\n",
    "df_to_geojson(df, \n",
    "              filename='data/insta_data.geojson',\n",
    "              properties=['user_id','date'], \n",
    "              lat='lat', \n",
    "              lon='lng', \n",
    "              precision=3)"
   ]
  },
  {
   "cell_type": "code",
   "execution_count": null,
   "metadata": {},
   "outputs": [],
   "source": [
    "# Just show a map of the data\n",
    "viz = CircleViz('data/insta_data.geojson', \n",
    "                access_token=token, \n",
    "                radius=2, \n",
    "                color_default='yellow',\n",
    "                center=(79.99,21.11), \n",
    "                zoom=3)\n",
    "\n",
    "# Map settings\n",
    "viz.style = 'mapbox://styles/mapbox/dark-v10?optimize=true'\n",
    "viz.label_color = 'hsl(62, 100%, 50%)'\n",
    "viz.label_halo_color = 'hsla(0, 0%, 10%, 0.75)'\n",
    "\n",
    "viz.show()"
   ]
  },
  {
   "cell_type": "code",
   "execution_count": null,
   "metadata": {},
   "outputs": [],
   "source": []
  }
 ],
 "metadata": {
  "kernelspec": {
   "display_name": "Python 3",
   "language": "python",
   "name": "python3"
  },
  "language_info": {
   "codemirror_mode": {
    "name": "ipython",
    "version": 3
   },
   "file_extension": ".py",
   "mimetype": "text/x-python",
   "name": "python",
   "nbconvert_exporter": "python",
   "pygments_lexer": "ipython3",
   "version": "3.6.5"
  }
 },
 "nbformat": 4,
 "nbformat_minor": 2
}
